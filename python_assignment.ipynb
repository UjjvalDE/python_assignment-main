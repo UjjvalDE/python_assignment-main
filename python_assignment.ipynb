import sqlalchemy
import pandas as pd
import numpy as np
import unittest
from sqlalchemy.ext.declarative import declarative_base
from sqlalchemy import Column, Float

# Define SQLAlchemy Base class for ORM
Base = declarative_base()

# Define Train class
class Train(Base):
    __tablename__='train_datas'

    x = Column(Float, nullable=False, primary_key=True)
    y1 = Column(Float, nullable=False)
    y2 = Column(Float, nullable=False)
    y3 = Column(Float, nullable=False)
    y4 = Column(Float, nullable=False)

# Define Test class
class Test(Base):
    __tablename__='test_datas'

    x = Column(Float, nullable=False, primary_key=True)
    y = Column(Float, nullable=False)
    delta_x = Column(Float, nullable=True)
    func_num = Column(Float, nullable=True)

# Define IdealFunctions class
class IdealFunctions(Base):
    __tablename__ = 'ideal_functions'
    x = Column(Float, nullable=False, primary_key=True)
    y1 = Column(Float)
    y2 = Column(Float)
    y3 = Column(Float)
    y4 = Column(Float)
    y5 = Column(Float)
    y6 = Column(Float)
    y7 = Column(Float)
    y8 = Column(Float)
    y9 = Column(Float)
    y10 = Column(Float)
    y11 = Column(Float)
    y12 = Column(Float)
    y13 = Column(Float)
    y14 = Column(Float)
    y15 = Column(Float)
    y16 = Column(Float)
    y17 = Column(Float)
    y18 = Column(Float)
    y19 = Column(Float)
    y20 = Column(Float)
    y21 = Column(Float)
    y22 = Column(Float)
    y23 = Column(Float)
    y24 = Column(Float)
    y25 = Column(Float)
    y26 = Column(Float)
    y27 = Column(Float)
    y28 = Column(Float)
    y29 = Column(Float)
    y30 = Column(Float)
    y31 = Column(Float)
    y32 = Column(Float)
    y33 = Column(Float)
    y34 = Column(Float)
    y35 = Column(Float)
    y36 = Column(Float)
    y37 = Column(Float)
    y38 = Column(Float)
    y39 = Column(Float)
    y40 = Column(Float)
    y41 = Column(Float)
    y42 = Column(Float)
    y43 = Column(Float)
    y44 = Column(Float)
    y45 = Column(Float)
    y46 = Column(Float)
    y47 = Column(Float)
    y48 = Column(Float)
    y49 = Column(Float)
    y50 = Column(Float)

# Function to load data from database into DataFrame
def load_data_to_dataframe(table_name, engine):
    return pd.read_sql_table(table_name, con=engine)
# import sqlalchemy as db

# def load_data_to_dataframe(table_name, engine):
#     if isinstance(engine, db.OptionEngine):
#         engine = engine.engine
#     return pd.read_sql_table(table_name, con=engine)

# Function to find best matching ideal functions
def find_best_ideal_functions(training_data, ideal_functions, n=4):
    if not isinstance(training_data, pd.DataFrame) or not isinstance(ideal_functions, pd.DataFrame):
        raise ValueError("Both training_data and ideal_functions must be pandas DataFrames.")
    if not isinstance(n, int):
        raise ValueError("n must be an integer.")

    best_funcs = {}
    
    for i in range(1, n + 1):
        min_deviation = float('inf')
        best_func = None
        
        for ideal in ideal_functions.columns[1:]:
            deviation = np.sum((training_data[f'y{i}'] - ideal_functions[ideal]) ** 2)
            
            if deviation < min_deviation:
                min_deviation = deviation
                best_func = ideal
        
        best_funcs[f'IdealFunc{i}'] = best_func
    
    return best_funcs

# Function to map test data to ideal functions
def map_test_data(test_data, ideal_functions, best_funcs):
    if not isinstance(test_data, pd.DataFrame) or not isinstance(ideal_functions, pd.DataFrame):
        raise ValueError("test_data and ideal_functions must be pandas DataFrame objects")
    
    if not {'x', 'y'}.issubset(test_data.columns):
        raise ValueError("test_data must contain 'x' and 'y' columns")
    
    if 'x' not in ideal_functions.columns:
        raise ValueError("ideal_functions must contain an 'x' column")
    
    # Set index for faster lookup
    ideal_functions.set_index('x', inplace=True)
    
    # Create an empty DataFrame to store results
    results = pd.DataFrame(columns=['x', 'y', 'delta_x', 'func_num'])
    
    for func_name, ideal_col in best_funcs.items():
        # Calculate delta_x using vectorized operations
        results[func_name] = (test_data['y'] - ideal_functions[ideal_col]) ** 2
    
    # Find the minimum deviation and corresponding function name for each row
    results['func_num'] = results.idxmin(axis=1)
    results['delta_x'] = np.sqrt(results.min(axis=1))
    results['func_num'] = results['func_num'].str.replace('IdealFunc', '')
    
    # Add 'x' and 'y' columns to the result DataFrame
    results[['x', 'y']] = test_data[['x', 'y']]
    
    return results[['x', 'y', 'delta_x', 'func_num']]

# Function to execute all unit tests
def run_tests():
    unittest.main(argv=[''], exit=False)

# Main function to execute the entire pipeline
def main():
    # Create engine to connect to SQLite database
    engine = sqlalchemy.create_engine('sqlite:///assignment_data.db')
    
    # Load data from database
    train_data = load_data_to_dataframe('train_datas', engine)
    ideal_functions = load_data_to_dataframe('ideal_functions', engine)
    test_data = load_data_to_dataframe('test_datas', engine)
    
    # Find best matching ideal functions
    best_funcs = find_best_ideal_functions(train_data, ideal_functions)
    
    # Map test data to ideal functions
    mapped_test_data = map_test_data(test_data, ideal_functions, best_funcs)
    
    # Store mapped test data back to database
    mapped_test_data.to_sql('test_datas', con=engine, if_exists='replace', index=False)
    
    # Display mapped test data
    print(mapped_test_data)

if __name__ == "__main__":
    main()
